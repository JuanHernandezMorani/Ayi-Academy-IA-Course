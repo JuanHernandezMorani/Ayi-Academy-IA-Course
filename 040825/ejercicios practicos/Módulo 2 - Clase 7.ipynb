{
 "cells": [
  {
   "cell_type": "markdown",
   "id": "03363544",
   "metadata": {},
   "source": [
    "# 📘 Notebook: Visualización y Análisis Avanzado de Clientes\n",
    "\n",
    "## 📌 Introducción\n",
    "En este notebook analizaremos un conjunto de datos de clientes de seguros. Aplicaremos técnicas estadísticas y de visualización avanzadas con Seaborn, además de realizar pruebas de hipótesis e interpretación de resultados para construir narrativas basadas en los datos (storytelling)."
   ]
  },
  {
   "cell_type": "markdown",
   "id": "e320fbc1",
   "metadata": {},
   "source": [
    "### 📊 1. Importación de librerías y datos"
   ]
  },
  {
   "cell_type": "code",
   "execution_count": null,
   "id": "37fbed6b",
   "metadata": {},
   "outputs": [],
   "source": [
    "import pandas as pd\n",
    "import seaborn as sns\n",
    "import matplotlib.pyplot as plt\n",
    "import scipy.stats as stats\n",
    "import numpy as np\n",
    "\n",
    "# Configuración de estilo\n",
    "sns.set(style=\"whitegrid\")\n",
    "df = pd.read_csv(\"customer.csv\")\n",
    "df.head()\n"
   ]
  },
  {
   "cell_type": "markdown",
   "id": "f701b2e5",
   "metadata": {},
   "source": [
    "### 📋 2. Análisis con Boxplots"
   ]
  },
  {
   "cell_type": "code",
   "execution_count": null,
   "id": "07d29614",
   "metadata": {},
   "outputs": [],
   "source": [
    "plt.figure(figsize=(10, 5))\n",
    "sns.boxplot(x='Coverage', y='ClaimAmount', data=df)\n",
    "plt.title(\"Distribución de ClaimAmount según tipo de Coverage\")\n",
    "plt.show()\n"
   ]
  },
  {
   "cell_type": "markdown",
   "id": "d02188e1",
   "metadata": {},
   "source": [
    "#### 📌 Interpretar:\n",
    "\n",
    "¿Cuál categoría muestra más outliers?\n",
    "\n",
    "¿Qué podemos inferir sobre el riesgo y el tipo de cobertura?"
   ]
  },
  {
   "cell_type": "markdown",
   "id": "cee47404",
   "metadata": {},
   "source": [
    "### 🔥 3. Heatmap de Correlación"
   ]
  },
  {
   "cell_type": "code",
   "execution_count": null,
   "id": "a736312a",
   "metadata": {},
   "outputs": [],
   "source": [
    "plt.figure(figsize=(10, 6))\n",
    "sns.heatmap(df.corr(numeric_only=True), annot=True, cmap=\"coolwarm\", fmt=\".2f\")\n",
    "plt.title(\"Matriz de correlación entre variables numéricas\")\n",
    "plt.show()\n"
   ]
  },
  {
   "cell_type": "markdown",
   "id": "4c2e248e",
   "metadata": {},
   "source": [
    "#### 📌 Interpretar:\n",
    "\n",
    "¿Qué variables están más correlacionadas con ClaimAmount?\n",
    "\n",
    "¿Hay correlaciones inesperadas?"
   ]
  },
  {
   "cell_type": "markdown",
   "id": "4191c4ae",
   "metadata": {},
   "source": [
    "### 🎻 4. Violinplot"
   ]
  },
  {
   "cell_type": "code",
   "execution_count": null,
   "id": "8533965b",
   "metadata": {},
   "outputs": [],
   "source": [
    "plt.figure(figsize=(10, 5))\n",
    "sns.violinplot(x='VehicleSize', y='CustomerLifetimeValue', data=df)\n",
    "plt.title(\"Distribución del valor del cliente según el tamaño del vehículo\")\n",
    "plt.show()\n"
   ]
  },
  {
   "cell_type": "markdown",
   "id": "a46ba0d7",
   "metadata": {},
   "source": [
    "#### 📌 Preguntas:\n",
    "\n",
    "¿Qué categoría muestra mayor concentración?\n",
    "\n",
    "¿Qué sugiere esto sobre el perfil del cliente?"
   ]
  },
  {
   "cell_type": "markdown",
   "id": "bf6fa8e1",
   "metadata": {},
   "source": [
    "### 📈 5. Lineplot y FacetGrid"
   ]
  },
  {
   "cell_type": "code",
   "execution_count": null,
   "id": "2b17549f",
   "metadata": {},
   "outputs": [],
   "source": [
    "# Convertimos fechas\n",
    "df['EffectiveToDate'] = pd.to_datetime(df['EffectiveToDate'])\n",
    "df_sorted = df.sort_values(\"EffectiveToDate\")\n",
    "\n",
    "# Gráfico de línea\n",
    "plt.figure(figsize=(12, 5))\n",
    "sns.lineplot(data=df_sorted, x='EffectiveToDate', y='ClaimAmount', ci=None)\n",
    "plt.title(\"Evolución temporal de ClaimAmount\")\n",
    "plt.xticks(rotation=45)\n",
    "plt.show()\n"
   ]
  },
  {
   "cell_type": "code",
   "execution_count": null,
   "id": "2ffeaf0e",
   "metadata": {},
   "outputs": [],
   "source": [
    "g = sns.FacetGrid(df, col=\"VehicleSize\", row=\"Coverage\", margin_titles=True, height=3)\n",
    "g.map_dataframe(sns.boxplot, x=\"Gender\", y=\"ClaimAmount\")\n",
    "g.fig.subplots_adjust(top=0.9)\n",
    "g.fig.suptitle(\"Variación de ClaimAmount según género, cobertura y tamaño de vehículo\")\n",
    "plt.show()\n"
   ]
  },
  {
   "cell_type": "markdown",
   "id": "48247488",
   "metadata": {},
   "source": [
    "### 🔍 6. Pairplot y relaciones entre variables"
   ]
  },
  {
   "cell_type": "code",
   "execution_count": null,
   "id": "2c0c2a1c",
   "metadata": {},
   "outputs": [],
   "source": [
    "sns.pairplot(df[['CustomerLifetimeValue', 'Income', 'MonthlyPremiumAuto', 'ClaimAmount']])\n",
    "plt.suptitle(\"Relaciones entre métricas financieras\", y=1.02)\n",
    "plt.show()\n"
   ]
  },
  {
   "cell_type": "markdown",
   "id": "5bf670ca",
   "metadata": {},
   "source": [
    "#### 📌 Analizar:\n",
    "\n",
    "¿Qué relaciones visuales surgen?\n",
    "\n",
    "¿Hay alguna correlación visible entre ingresos y siniestros?\n",
    "\n"
   ]
  },
  {
   "cell_type": "markdown",
   "id": "223941d8",
   "metadata": {},
   "source": [
    "### 📏 7. Intervalos de Confianza"
   ]
  },
  {
   "cell_type": "code",
   "execution_count": null,
   "id": "cb556e40",
   "metadata": {},
   "outputs": [],
   "source": [
    "sample = df['ClaimAmount'].dropna()\n",
    "media = sample.mean()\n",
    "std = sample.std()\n",
    "n = len(sample)\n",
    "conf_int = stats.norm.interval(0.95, loc=media, scale=std/np.sqrt(n))\n",
    "print(f\"Intervalo de confianza del 95% para ClaimAmount: {conf_int}\")\n"
   ]
  },
  {
   "cell_type": "markdown",
   "id": "02d0e9f2",
   "metadata": {},
   "source": [
    "#### 📌 Reflexión: ¿Qué significa este intervalo para un gerente de seguros?"
   ]
  },
  {
   "cell_type": "markdown",
   "id": "ed722133",
   "metadata": {},
   "source": [
    "### ❓ 8. Prueba de Hipótesis\n",
    "\n",
    "##### Hipótesis: Los clientes con cobertura Premium tienen un monto promedio de siniestros diferente al de cobertura Básica."
   ]
  },
  {
   "cell_type": "code",
   "execution_count": null,
   "id": "eba57011",
   "metadata": {},
   "outputs": [],
   "source": [
    "basic = df[df['Coverage'] == 'Basic']['ClaimAmount']\n",
    "premium = df[df['Coverage'] == 'Premium']['ClaimAmount']\n",
    "\n",
    "t_stat, p_val = stats.ttest_ind(basic, premium, equal_var=False)\n",
    "print(f\"T-statistic: {t_stat}, p-value: {p_val}\")\n"
   ]
  },
  {
   "cell_type": "markdown",
   "id": "db58d71e",
   "metadata": {},
   "source": [
    "#### 📌 Conclusión:\n",
    "\n",
    "¿Rechazamos H₀ al 5%?\n",
    "\n",
    "¿Qué acciones de negocio se pueden derivar?"
   ]
  },
  {
   "cell_type": "markdown",
   "id": "6dd705b2",
   "metadata": {},
   "source": [
    "### 🧠 9. Storytelling con datos\n",
    "\n",
    "#### Consejos:\n",
    "\n",
    "- Destacar insights relevantes, no solo gráficos bonitos.\n",
    "\n",
    "- Apoyarse en preguntas clave: ¿Qué? ¿Por qué? ¿Y ahora qué?\n",
    "\n",
    "- Usar títulos claros y lenguaje no técnico para comunicar resultados."
   ]
  },
  {
   "cell_type": "markdown",
   "id": "183c0b54",
   "metadata": {},
   "source": [
    "### ✅ 10. Ejercicios Finales"
   ]
  },
  {
   "cell_type": "markdown",
   "id": "a844d8ef",
   "metadata": {},
   "source": [
    "🔹 Ejercicio 1:\n",
    "Crear un gráfico que muestre cómo varía ClaimAmount según Coverage y VehicleSize, e interpretar qué conclusiones surgen sobre el perfil de riesgo.\n",
    "\n",
    "🔹 Ejercicio 2:\n",
    "Usar pairplot para encontrar relaciones ocultas entre al menos 3 variables del dataset. Escribir una conclusión al respecto.\n",
    "\n",
    "🔹 Ejercicio 3:\n",
    "Dado el dataset:\n",
    "\n",
    "Construí al menos 3 visualizaciones con interpretación:\n",
    "\n",
    "- 1 con análisis de outliers\n",
    "\n",
    "- 1 con análisis de correlación\n",
    "\n",
    "- 1 con una narrativa visual (storytelling)\n",
    "\n",
    "🔹 Ejercicio 4:\n",
    "Elaborar una visualización tipo “dashboard” con varios subplots (usar subplots o FacetGrid) que cuente una historia sobre los clientes más valiosos (CustomerLifetimeValue)."
   ]
  }
 ],
 "metadata": {
  "language_info": {
   "name": "python"
  }
 },
 "nbformat": 4,
 "nbformat_minor": 5
}
